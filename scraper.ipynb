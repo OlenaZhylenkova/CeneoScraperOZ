{
 "cells": [
  {
   "cell_type": "markdown",
   "metadata": {},
   "source": [
    "# Ceneo Scraper"
   ]
  },
  {
   "cell_type": "markdown",
   "metadata": {},
   "source": [
    "## Załadowanie bibliotek"
   ]
  },
  {
   "cell_type": "code",
   "execution_count": null,
   "metadata": {},
   "outputs": [],
   "source": [
    "import requests\n",
    "from bs4 import BeautifulSoup"
   ]
  },
  {
   "cell_type": "markdown",
   "metadata": {},
   "source": [
    "## Wysłanie zapytania do serwera"
   ]
  },
  {
   "cell_type": "code",
   "execution_count": null,
   "metadata": {},
   "outputs": [],
   "source": [
    "product_id = \"138331381\"\n",
    "url = f\"https://www.ceneo.pl/{product_id}#tab=reviews_scroll\"\n",
    "response = requests.get(url)\n",
    "response.status_code"
   ]
  },
  {
   "cell_type": "markdown",
   "metadata": {},
   "source": [
    "# Pobranie opinii z kodu HTML strony"
   ]
  },
  {
   "cell_type": "code",
   "execution_count": null,
   "metadata": {},
   "outputs": [],
   "source": [
    "page_dom = BeautifulSoup(response.text, \"html.parser\")\n",
    "opinions = page_dom.select(\"div.js_product-review\")\n",
    "print(type(opinions))\n",
    "opinion = opinions.pop(0)\n",
    "print(type(opinion))"
   ]
  },
  {
   "cell_type": "code",
   "execution_count": null,
   "metadata": {},
   "outputs": [],
   "source": [
    "print(opinion)"
   ]
  },
  {
   "cell_type": "markdown",
   "metadata": {},
   "source": [
    "# Ekstrakcja składowych pojedynczej opinii\n",
    "\n",
    "|Składowa|Selektor|Zmienna|\n",
    "|--------|--------|-------|\n",
    "|id opinii|[data-entry-id]|opinion_id|\n",
    "|autor|span.user-post__author-name|author|\n",
    "|rekomendacja|span.user-post__author-recomendation|recommendation|\n",
    "|gwiazdki|span.user-post__score-count|stars|\n",
    "|treść|div.user-post__text|content|\n",
    "|lista zalet|.review-feature__title ~ .review-feature__title--positives|pros|\n",
    "|lista wad|  .review-feature__title ~ .review-feature__title--negatives |cons|\n",
    "|dla ilu przydatna|button.vote-yes > span|helpful|\n",
    "|dla ilu nieprzydatna| button.vote-no >span  |unhelpful|\n",
    "|data wystawenia|span.user-post__published > time:nth-child(1)[datetime]|publish_date|\n",
    "|data zakupu|span.user-post__published > time:nth-child(2)[datetime]|purchase_date|"
   ]
  },
  {
   "cell_type": "code",
   "execution_count": null,
   "metadata": {},
   "outputs": [],
   "source": [
    "opinion_id = data-entry-id"
   ]
  }
 ],
 "metadata": {
  "kernelspec": {
   "display_name": ".venv",
   "language": "python",
   "name": "python3"
  },
  "language_info": {
   "codemirror_mode": {
    "name": "ipython",
    "version": 3
   },
   "file_extension": ".py",
   "mimetype": "text/x-python",
   "name": "python",
   "nbconvert_exporter": "python",
   "pygments_lexer": "ipython3",
   "version": "3.11.8"
  }
 },
 "nbformat": 4,
 "nbformat_minor": 2
}
