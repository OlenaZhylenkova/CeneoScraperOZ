{
 "cells": [
  {
   "cell_type": "markdown",
   "metadata": {},
   "source": [
    "# Ceneo Scraper"
   ]
  },
  {
   "cell_type": "markdown",
   "metadata": {},
   "source": [
    "# Ekstrakcja składowych pojedynczej opinii\n",
    "\n",
    "|Składowa|Selektor|Zmienna|\n",
    "|--------|--------|-------|\n",
    "|id opinii|[data-entry-id]|opinion_id|\n",
    "|autor|span.user-post__author-name|author|\n",
    "|rekomendacja|span.user-post__author-recomendation|recommendation|\n",
    "|gwiazdki|span.user-post__score-count|stars|\n",
    "|treść|div.user-post__text|content|\n",
    "|lista zalet|.review-feature__title ~ .review-feature__title--positives|pros|\n",
    "|lista wad|  .review-feature__title ~ .review-feature__title--negatives |cons|\n",
    "|dla ilu przydatna|button.vote-yes > span|helpful|\n",
    "|dla ilu nieprzydatna| button.vote-no >span  |unhelpful|\n",
    "|data wystawenia|span.user-post__published > time:nth-child(1)[datetime]|publish_date|\n",
    "|data zakupu|span.user-post__published > time:nth-child(2)[datetime]|purchase_date|"
   ]
  },
  {
   "cell_type": "markdown",
   "metadata": {},
   "source": [
    "## Załadowanie bibliotek"
   ]
  },
  {
   "cell_type": "code",
   "execution_count": null,
   "metadata": {},
   "outputs": [],
   "source": [
    "import os\n",
    "import json\n",
    "import requests\n",
    "from bs4 import BeautifulSoup"
   ]
  },
  {
   "cell_type": "markdown",
   "metadata": {},
   "source": [
    "## Wysłanie zapytania do serwera"
   ]
  },
  {
   "cell_type": "code",
   "execution_count": null,
   "metadata": {},
   "outputs": [],
   "source": [
    "product_id = \"138331381\"\n",
    "url = f\"https://www.ceneo.pl/{product_id}#tab=reviews_scroll\"\n"
   ]
  },
  {
   "cell_type": "markdown",
   "metadata": {},
   "source": [
    "# Pobranie opinii z kodu HTML strony"
   ]
  },
  {
   "cell_type": "markdown",
   "metadata": {},
   "source": [
    "## Pobranie wszystkich opinii o produkcie"
   ]
  },
  {
   "cell_type": "code",
   "execution_count": null,
   "metadata": {},
   "outputs": [],
   "source": [
    "\n",
    "all_opinions = []\n",
    "while(url):\n",
    "    response = requests.get(url)\n",
    "    page_dom = BeautifulSoup(response.text, \"html.parser\")\n",
    "    opinions = page_dom.select(\"div.js_product-review\")\n",
    "\n",
    "    for opinion in opinions:\n",
    "        single_opinion = {\n",
    "        \"opinion_id\" : opinion[\"data-entry-id\"],\n",
    "        \"author\" : opinion.select_one(\".user-post__author-name\").text,\n",
    "        \"recomendation\":opinion.select_one(\"span.user-post__author-recomendation > em\").text.strip(),\n",
    "        \"rating\":opinion.select_one(\"span.user-post__score-count\").text.strip(),\n",
    "        \"content\": opinion.select_one(\"div.user-post__text\").text.strip(),\n",
    "        \"pros\":[item.text.strip() for item in opinion.select(\"div.review-feature__title-positives ~ div.review-features__item\")],\n",
    "        \"cons\": [item.text.strip() for item in opinion.select(\"div.review-feature__title-negatives ~ div.review-features__item\")],\n",
    "        \"useful\": opinion.select_one(\"button.vote-yes > span\").text.strip() ,\n",
    "        \"useless\": opinion.select_one(\"button.vote-no > span\").text.strip() ,\n",
    "        \"publish_date\":  opinion.select_one(\"span.user-post__published > time:nth-child(1)\")[\"datetime\"],\n",
    "        \"purshare_date\":  opinion.select_one(\"span.user-post__published > time:nth-child(2)\")[\"datetime\"]\n",
    "    }\n",
    "        all_opinions.append(single_opinion)\n",
    "try:\n",
    "    url = \"https://www.ceneo.pl\" + page_dom.select_one(a.pagination__next)[\"href\"].strip()\n",
    "except TypeError: url = None"
   ]
  },
  {
   "cell_type": "code",
   "execution_count": null,
   "metadata": {},
   "outputs": [],
   "source": [
    "if not os.path.exists(\"opinions\"):\n",
    "        os.makedirs(\"opinions\")\n",
    "with open(\"f{opinions/product_id}.json\", \"w\", encoding = \"UTF-8\") as jf:\n",
    "    json.dump(all_opinions, jf  , indent=4, ensure_ascii =False )"
   ]
  },
  {
   "cell_type": "code",
   "execution_count": null,
   "metadata": {},
   "outputs": [],
   "source": []
  },
  {
   "cell_type": "code",
   "execution_count": null,
   "metadata": {},
   "outputs": [],
   "source": []
  }
 ],
 "metadata": {
  "kernelspec": {
   "display_name": ".venv",
   "language": "python",
   "name": "python3"
  },
  "language_info": {
   "codemirror_mode": {
    "name": "ipython",
    "version": 3
   },
   "file_extension": ".py",
   "mimetype": "text/x-python",
   "name": "python",
   "nbconvert_exporter": "python",
   "pygments_lexer": "ipython3",
   "version": "3.11.9"
  }
 },
 "nbformat": 4,
 "nbformat_minor": 2
}
